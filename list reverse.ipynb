{
 "cells": [
  {
   "cell_type": "code",
   "execution_count": 99,
   "id": "a337c409",
   "metadata": {},
   "outputs": [],
   "source": [
    "l1 = [[1, 2], [3, 4], [5, 6, 7]]\n",
    "l4 = []"
   ]
  },
  {
   "cell_type": "code",
   "execution_count": 100,
   "id": "0e31a964",
   "metadata": {},
   "outputs": [],
   "source": [
    "def function(input,output):\n",
    "    for a in input[::-1]:\n",
    "        output.append(a[::-1])\n",
    "    print(output)"
   ]
  },
  {
   "cell_type": "code",
   "execution_count": 101,
   "id": "9d0b1e17",
   "metadata": {},
   "outputs": [
    {
     "name": "stdout",
     "output_type": "stream",
     "text": [
      "[[7, 6, 5], [4, 3], [2, 1]]\n"
     ]
    }
   ],
   "source": [
    "function(l1,l4)"
   ]
  },
  {
   "cell_type": "code",
   "execution_count": null,
   "id": "aec8adee",
   "metadata": {},
   "outputs": [],
   "source": []
  }
 ],
 "metadata": {
  "kernelspec": {
   "display_name": "Python 3 (ipykernel)",
   "language": "python",
   "name": "python3"
  },
  "language_info": {
   "codemirror_mode": {
    "name": "ipython",
    "version": 3
   },
   "file_extension": ".py",
   "mimetype": "text/x-python",
   "name": "python",
   "nbconvert_exporter": "python",
   "pygments_lexer": "ipython3",
   "version": "3.10.6"
  }
 },
 "nbformat": 4,
 "nbformat_minor": 5
}
